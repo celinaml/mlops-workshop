{
 "cells": [
  {
   "cell_type": "markdown",
   "metadata": {},
   "source": [
    "## First, let's  test the ping method (GET /ping)\n",
    "This method will be used by the Sagemaker for health check our model. It must return a code **200**."
   ]
  },
  {
   "cell_type": "code",
   "execution_count": null,
   "metadata": {},
   "outputs": [],
   "source": [
    "import json\n",
    "from urllib import request\n",
    "\n",
    "base_url='http://localhost:8080'"
   ]
  },
  {
   "cell_type": "code",
   "execution_count": null,
   "metadata": {
    "scrolled": true
   },
   "outputs": [],
   "source": [
    "resp = request.urlopen(\"%s/ping\" % base_url)\n",
    "print(\"Response code: %d\" % resp.getcode() )"
   ]
  },
  {
   "cell_type": "code",
   "execution_count": null,
   "metadata": {
    "scrolled": true
   },
   "outputs": [],
   "source": [
    "%%time\n",
    "\n",
    "payload_logistic=json.dumps({\"algorithm\": \"logistic\", \"payload\": [[4.6, 3.1, 1.5, 0.2]] }).encode('utf-8')\n",
    "payload_random_forest=json.dumps({\"algorithm\": \"logistic\", \"payload\": [[4.6, 3.1, 1.5, 0.2]] }).encode('utf-8')\n",
    "headers={\"Content-type\": \"application/json\"}\n",
    "\n",
    "def predict(payload):\n",
    "    req = request.Request(\"%s/invocations\" % base_url, data=payload, headers=headers)\n",
    "    resp = request.urlopen(req)\n",
    "    print(\"Response code: %d, Payload: [%s]\" % (resp.getcode(), json.loads(resp.read())))\n",
    "    \n",
    "predict(payload_logistic)\n",
    "predict(payload_random_forest)"
   ]
  },
  {
   "cell_type": "code",
   "execution_count": null,
   "metadata": {},
   "outputs": [],
   "source": []
  }
 ],
 "metadata": {
  "kernelspec": {
   "display_name": "conda_python3",
   "language": "python",
   "name": "conda_python3"
  },
  "language_info": {
   "codemirror_mode": {
    "name": "ipython",
    "version": 3
   },
   "file_extension": ".py",
   "mimetype": "text/x-python",
   "name": "python",
   "nbconvert_exporter": "python",
   "pygments_lexer": "ipython3",
   "version": "3.6.5"
  }
 },
 "nbformat": 4,
 "nbformat_minor": 2
}
