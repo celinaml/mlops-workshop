{
 "cells": [
  {
   "cell_type": "code",
   "execution_count": null,
   "metadata": {},
   "outputs": [],
   "source": [
    "import boto3\n",
    "import json"
   ]
  },
  {
   "cell_type": "code",
   "execution_count": null,
   "metadata": {},
   "outputs": [],
   "source": [
    "codepipeline = boto3.client('codepipeline')\n",
    "sm = boto3.client('sagemaker-runtime')\n",
    "\n",
    "pipeline_name = 'mlops-iris-model'\n",
    "endpoint_name_mask='mlops-iris-model-%s-%s'"
   ]
  },
  {
   "cell_type": "code",
   "execution_count": null,
   "metadata": {},
   "outputs": [],
   "source": [
    "def get_actions():\n",
    "    actions = []\n",
    "    executionId = None\n",
    "    resp = codepipeline.get_pipeline_state( name=pipeline_name )\n",
    "    for stage in resp['stageStates']:\n",
    "        stageName = stage['stageName']\n",
    "        stageStatus = None\n",
    "        if stage.get('latestExecution') is not None:\n",
    "            stageStatus = stage['latestExecution']['status']\n",
    "            if executionId is None:\n",
    "                executionId = stage['latestExecution']['pipelineExecutionId']\n",
    "            elif stage['latestExecution']['pipelineExecutionId'] != executionId:\n",
    "                stageStatus = 'Old'\n",
    "        for action in stage['actionStates']:\n",
    "            actionName = action['actionName']\n",
    "            actionStatus = 'Old'\n",
    "            if action.get('latestExecution') is not None and stageStatus != 'Old':\n",
    "                actionStatus = action['latestExecution']['status']\n",
    "            actions.append( {'stageName': stageName, \n",
    "                             'stageStatus': stageStatus, \n",
    "                             'actionName': actionName, \n",
    "                             'actionStatus': actionStatus})\n",
    "    return actions"
   ]
  },
  {
   "cell_type": "code",
   "execution_count": null,
   "metadata": {},
   "outputs": [],
   "source": [
    "def get_approval_token():\n",
    "    resp = codepipeline.get_pipeline_state( name=pipeline_name )\n",
    "    token = None\n",
    "    # Get the approve train status token\n",
    "    for stageState in resp['stageStates']:\n",
    "      if stageState['stageName'] == 'TrainApproval':\n",
    "        for actionState in stageState['actionStates']:\n",
    "          if actionState['actionName'] == 'ApproveTrain':\n",
    "            latestExecution = actionState['latestExecution']\n",
    "            if latestExecution['status'] == 'InProgress':\n",
    "                token = latestExecution['token']\n",
    "    return token"
   ]
  },
  {
   "cell_type": "code",
   "execution_count": null,
   "metadata": {},
   "outputs": [],
   "source": [
    "def monitor_job():\n",
    "    print('TODO')"
   ]
  },
  {
   "cell_type": "code",
   "execution_count": null,
   "metadata": {},
   "outputs": [],
   "source": [
    "def test_endpoint(endpoint_name, payload):\n",
    "    resp = sm.invoke_endpoint(\n",
    "        EndpointName=endpoint_name,\n",
    "        Body=payload\n",
    "    )\n",
    "    return resp['Body'].read()"
   ]
  },
  {
   "cell_type": "code",
   "execution_count": null,
   "metadata": {},
   "outputs": [],
   "source": [
    "response = codepipeline.get_pipeline_state( name=pipeline_name )\n",
    "executionId = response['stageStates'][0]['latestExecution']['pipelineExecutionId']"
   ]
  },
  {
   "cell_type": "code",
   "execution_count": null,
   "metadata": {},
   "outputs": [],
   "source": [
    "payload_logistic = json.dumps({\"algorithm\": \"logistic\", \"payload\": [[4.6, 3.1, 1.5, 0.2]] })\n",
    "payload_random_forest = json.dumps({\"algorithm\": \"random_forest\", \"payload\": [[4.6, 3.1, 1.5, 0.2]] })"
   ]
  },
  {
   "cell_type": "code",
   "execution_count": null,
   "metadata": {},
   "outputs": [],
   "source": [
    "%%time\n",
    "print( \"DSV\")\n",
    "print( \"Logistic: %s\" % test_endpoint( endpoint_name_mask % ('dev', executionId), payload_logistic ) )\n",
    "print( \"Random forest: %s\" % test_endpoint( endpoint_name_mask % ('dev', executionId), payload_random_forest ) )\n",
    "print( \"\\nPRD\")\n",
    "print( \"Logistic: %s\" % test_endpoint( endpoint_name_mask % ('prd', executionId), payload_logistic ) )\n",
    "print( \"Random forest: %s\" % test_endpoint( endpoint_name_mask % ('prd', executionId), payload_random_forest ) )"
   ]
  },
  {
   "cell_type": "code",
   "execution_count": null,
   "metadata": {},
   "outputs": [],
   "source": []
  }
 ],
 "metadata": {
  "kernelspec": {
   "display_name": "conda_python3",
   "language": "python",
   "name": "conda_python3"
  },
  "language_info": {
   "codemirror_mode": {
    "name": "ipython",
    "version": 3
   },
   "file_extension": ".py",
   "mimetype": "text/x-python",
   "name": "python",
   "nbconvert_exporter": "python",
   "pygments_lexer": "ipython3",
   "version": "3.6.5"
  }
 },
 "nbformat": 4,
 "nbformat_minor": 2
}
